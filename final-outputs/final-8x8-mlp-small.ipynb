{
 "cells": [
  {
   "cell_type": "code",
   "execution_count": 1,
   "metadata": {},
   "outputs": [],
   "source": [
    "import os, time, errno\n",
    "import torch, tables\n",
    "import torch.nn.functional as F\n",
    "import matplotlib.pyplot as plt\n",
    "import numpy as np\n",
    "import cv2"
   ]
  },
  {
   "cell_type": "code",
   "execution_count": 2,
   "metadata": {},
   "outputs": [],
   "source": [
    "os.environ['CUDA_VISIBLE_DEVICES']='1'\n",
    "savedir = '8x8-mlp-small'"
   ]
  },
  {
   "cell_type": "code",
   "execution_count": 3,
   "metadata": {},
   "outputs": [],
   "source": [
    "T = 10 # time buckets\n",
    "\n",
    "hdf5 = tables.open_file('captures/fei/R1_E3_AMES_200min_200f_14l_rgb.h5','r')\n",
    "hdf5 = hdf5.root\n",
    "#print(np.array(hdf5['image_classes'])[0])\n",
    "#raise\n",
    "#label_index = np.array(hdf5['image_classes']).astype(int)\n",
    "\n",
    "try:\n",
    "    dataset = np.load('captures/fei/cache.npy')\n",
    "    #dataset = np.load('captures/200807/glia_data.npy')\n",
    "except FileNotFoundError:\n",
    "\n",
    "    data = []\n",
    "    for i in range(7):\n",
    "        print('.',end='')\n",
    "        batch = np.array(hdf5['data'][i*400:(i+1)*400])\n",
    "        batch = batch.reshape(-1,T,int(batch.shape[1]/T),64,64,6).sum(2).astype(np.float32) # binning\n",
    "        data.append(batch)\n",
    "        \n",
    "    dataset = np.concatenate(data,axis=0)\n",
    "    dataset = np.moveaxis(dataset,[0,1,2,3,4],[0,1,3,4,2])\n",
    "    np.save('captures/fei/cache.npy', dataset)\n",
    "\n",
    "classes = np.array([np.array(itm.decode('utf-8').split('\"'))[[1,3]].astype(np.int32)\n",
    "                    for itm in np.array(hdf5['image_classes'].read())])"
   ]
  },
  {
   "cell_type": "markdown",
   "metadata": {},
   "source": [
    "# Presented targets"
   ]
  },
  {
   "cell_type": "code",
   "execution_count": 4,
   "metadata": {},
   "outputs": [],
   "source": [
    "imgs = hdf5[\"images\"][0:100]\n",
    "y,x = np.where(np.mean(imgs, axis=(0,3))>5)\n",
    "xleft, xright, ytop, ybot = min(x), max(x), min(y), max(y)\n",
    "\n",
    "images = hdf5[\"images\"][:,ytop:ybot,xleft:xright]\n",
    "\n",
    "tiny_images = []\n",
    "for i in range(len(images)):\n",
    "    tiny_images.append(cv2.resize(images[i],(64,64)))\n",
    "images = np.stack(tiny_images)"
   ]
  },
  {
   "cell_type": "markdown",
   "metadata": {},
   "source": [
    "# Model"
   ]
  },
  {
   "cell_type": "code",
   "execution_count": 5,
   "metadata": {},
   "outputs": [],
   "source": [
    "class ResNet(torch.nn.Module):\n",
    "    def __init__(self, filters=128):\n",
    "        super(ResNet, self).__init__()\n",
    "        self.filters = filters\n",
    "        \n",
    "        self.w_in = torch.nn.Linear(10*6*8*8,self.filters, bias=False)\n",
    "        self.w_out =  torch.nn.Linear(self.filters, 64*64, bias=True)\n",
    "        \n",
    "        for name, parm in self.named_parameters():\n",
    "            if name.endswith('weight'): torch.nn.init.normal_(parm, 0, .01)\n",
    "            if name.endswith('bias'): torch.nn.init.constant_(parm, 0.0)\n",
    "    \n",
    "    def forward(self, x):\n",
    "        x = x.view(-1,10*6,64,64)[:,:,::8,::8].contiguous()\n",
    "        zx = F.relu(self.w_in(x.view(-1,10*6*8*8)))\n",
    "        return torch.sigmoid(self.w_out(zx).view(-1,64,64))"
   ]
  },
  {
   "cell_type": "markdown",
   "metadata": {},
   "source": [
    "# Fit"
   ]
  },
  {
   "cell_type": "code",
   "execution_count": 6,
   "metadata": {},
   "outputs": [],
   "source": [
    "data = torch.tensor(dataset)/30. # scaling\n",
    "targets = torch.tensor(images).float().mean(3)/255."
   ]
  },
  {
   "cell_type": "code",
   "execution_count": 7,
   "metadata": {},
   "outputs": [],
   "source": [
    "train_data = data[[i for i in range(2800) if (i+1)%5 != 0]]\n",
    "val_data = data[slice(4,2800,10)]\n",
    "test_data = data[slice(9,2800,10)]\n",
    "\n",
    "train_targets = targets[[i for i in range(2800) if (i+1)%5 != 0]]\n",
    "val_targets = targets[slice(4,2800,10)]\n",
    "test_targets = targets[slice(9,2800,10)]"
   ]
  },
  {
   "cell_type": "code",
   "execution_count": 8,
   "metadata": {},
   "outputs": [
    {
     "name": "stdout",
     "output_type": "stream",
     "text": [
      "Initialized a graph with 1019904 parameters\n",
      "Initial Loss: 4.071775\n"
     ]
    }
   ],
   "source": [
    "batch_size = 20\n",
    "\n",
    "model = ResNet().cuda()\n",
    "count = sum([np.prod(parm.shape) for parm in model.parameters() if parm.requires_grad])\n",
    "print('Initialized a graph with {} parameters'.format(count))\n",
    "\n",
    "train_history = []\n",
    "val_history = []\n",
    "\n",
    "model.eval()\n",
    "loss = 0.\n",
    "for i in np.random.permutation(len(val_data)//batch_size):\n",
    "    start, end = i*batch_size, (i+1)*batch_size\n",
    "    x,z = val_data[start:end].cuda(), val_targets[start:end].cuda()\n",
    "    loss += ((model(x).detach() - z)**2).sum(1).mean()\n",
    "val_history.append(loss/(len(val_data)//batch_size))\n",
    "print('Initial Loss: {:2f}'.format(val_history[-1]))"
   ]
  },
  {
   "cell_type": "code",
   "execution_count": 9,
   "metadata": {},
   "outputs": [
    {
     "name": "stdout",
     "output_type": "stream",
     "text": [
      "epoch\ttrain loss\ttest loss\ttime\t\tutime\n",
      "0\t2.311095\t1.633279\t0.886584\t0.093108\n",
      "1\t1.739115\t1.584385\t0.859146\t0.091719\n",
      "2\t1.681725\t1.541389\t0.864724\t0.085294\n",
      "3\t1.613070\t1.487889\t0.893088\t0.091583\n",
      "4\t1.527901\t1.418251\t0.868447\t0.091568\n",
      "5\t1.438985\t1.355276\t0.871554\t0.093554\n",
      "6\t1.356445\t1.304757\t0.875332\t0.091531\n",
      "7\t1.297195\t1.296187\t0.871530\t0.084073\n",
      "8\t1.251323\t1.262027\t0.874979\t0.092876\n",
      "9\t1.210406\t1.248806\t0.852140\t0.091604\n",
      "10\t1.173409\t1.238854\t0.860440\t0.094097\n",
      "11\t1.137940\t1.220116\t0.872484\t0.091447\n",
      "12\t1.105574\t1.204340\t0.868730\t0.091741\n",
      "13\t1.078316\t1.197854\t0.864873\t0.093537\n",
      "14\t1.054311\t1.193473\t0.870795\t0.091492\n",
      "15\t1.032641\t1.189493\t0.859558\t0.082783\n",
      "16\t1.009980\t1.170143\t0.874946\t0.092954\n",
      "17\t0.987219\t1.177871\t0.868222\t0.091710\n",
      "18\t0.967389\t1.166794\t0.896079\t0.092730\n",
      "19\t0.946770\t1.159340\t0.893265\t0.091588\n",
      "20\t0.926413\t1.155794\t0.872471\t0.093392\n",
      "21\t0.909394\t1.147556\t0.873202\t0.091484\n",
      "22\t0.890386\t1.147707\t0.868859\t0.090987\n",
      "23\t0.873981\t1.156622\t0.872007\t0.093932\n",
      "24\t0.859604\t1.142047\t0.887014\t0.091612\n",
      "25\t0.843843\t1.151548\t0.879387\t0.096206\n",
      "26\t0.833306\t1.155623\t0.875327\t0.091590\n",
      "27\t0.818962\t1.149678\t0.867457\t0.091572\n",
      "28\t0.805656\t1.149773\t0.885305\t0.093674\n",
      "29\t0.794933\t1.154692\t0.874171\t0.091437\n",
      "Finished\n"
     ]
    }
   ],
   "source": [
    "batch_size = 20\n",
    "optimizer = torch.optim.Adam(model.parameters(), lr=.001)\n",
    "\n",
    "try:\n",
    "    print('epoch\\ttrain loss\\ttest loss\\ttime\\t\\tutime')\n",
    "    t0 = time.time()\n",
    "    for epoch in range(30):\n",
    "        model.train()\n",
    "        loss_train = 0\n",
    "        for i in np.random.permutation(len(train_data)//batch_size):\n",
    "            start, end = i*batch_size, (i+1)*batch_size\n",
    "            x,z = train_data[start:end].cuda(), train_targets[start:end].cuda()\n",
    "            loss = ((model(x) - z)**2).sum(1).mean()\n",
    "            optimizer.zero_grad()\n",
    "            loss.backward()\n",
    "            optimizer.step()\n",
    "            loss_train += loss.detach()\n",
    "        train_history.append(loss_train/(len(train_data)//batch_size))\n",
    "\n",
    "        if epoch % 1 == 0:\n",
    "            t1 = time.time()\n",
    "            model.eval()\n",
    "            loss = 0.\n",
    "            for i in range(len(val_data)//batch_size):\n",
    "                start, end = i*batch_size, (i+1)*batch_size\n",
    "                x,z = val_data[start:end].cuda(), val_targets[start:end].cuda()\n",
    "                loss += ((model(x).detach() - z)**2).sum(1).mean()\n",
    "            val_history.append(loss/(len(val_data)//batch_size))\n",
    "            print('{:d}\\t{:2f}\\t{:2f}\\t{:2f}\\t{:2f}'.format(epoch,train_history[-1],val_history[-1],time.time()-t0, time.time()-t1))\n",
    "            t0 = time.time()\n",
    "            \n",
    "except KeyboardInterrupt:\n",
    "    print('Graceful Exit')\n",
    "else:\n",
    "    print('Finished')"
   ]
  },
  {
   "cell_type": "code",
   "execution_count": 10,
   "metadata": {},
   "outputs": [
    {
     "data": {
      "text/plain": [
       "[<matplotlib.lines.Line2D at 0x7fd4a4a63760>]"
      ]
     },
     "execution_count": 10,
     "metadata": {},
     "output_type": "execute_result"
    },
    {
     "data": {
      "image/png": "[encoded data removed]",
      "text/plain": [
       "<Figure size 720x216 with 2 Axes>"
      ]
     },
     "metadata": {
      "needs_background": "light"
     },
     "output_type": "display_data"
    }
   ],
   "source": [
    "fig, ax = plt.subplots(1,2, figsize=(10,3))\n",
    "\n",
    "ax[0].plot([itm.cpu().numpy() for itm in train_history[10:]])\n",
    "ax[1].plot([itm.cpu().numpy() for itm in val_history[10:]])"
   ]
  },
  {
   "cell_type": "code",
   "execution_count": 11,
   "metadata": {},
   "outputs": [
    {
     "name": "stdout",
     "output_type": "stream",
     "text": [
      "Final Loss: 77.401047\n"
     ]
    }
   ],
   "source": [
    "model.eval()\n",
    "loss = 0.\n",
    "for i in np.random.permutation(len(test_data)//batch_size):\n",
    "    start, end = i*batch_size, (i+1)*batch_size\n",
    "    x,z = test_data[start:end].cuda(), test_targets[start:end].cuda()\n",
    "    loss += ((model(x).detach() - z)**2).view(-1,64*64).sum(1).mean()\n",
    "print('Final Loss: {:2f}'.format(loss/(len(test_data)//batch_size)))"
   ]
  },
  {
   "cell_type": "code",
   "execution_count": null,
   "metadata": {},
   "outputs": [],
   "source": [
    "try:\n",
    "    os.makedirs(f'final-outputs/{savedir}')\n",
    "except OSError as e:\n",
    "    if e.errno != errno.EEXIST:\n",
    "        raise\n",
    "\n",
    "originals = False\n",
    "try:\n",
    "    os.makedirs('final-outputs/originals')\n",
    "except OSError as e:\n",
    "    if e.errno != errno.EEXIST:\n",
    "        raise\n",
    "    originals = True\n",
    "\n",
    "train_idx = 0\n",
    "val_idx = 0\n",
    "test_idx = 0\n",
    "for i in range(len(data)):\n",
    "    person, pose = classes[i]\n",
    "    if (i+1) % 5 != 0: # training data\n",
    "        prefix = f'train{train_idx}'\n",
    "        train_idx += 1\n",
    "    elif (i+1) % 10 == 5: # validation data\n",
    "        prefix = f'valid{val_idx}'\n",
    "        val_idx += 1\n",
    "    else: # (i+1) % 10 == 0 (test data)\n",
    "        prefix = f'test{test_idx}'\n",
    "        test_idx += 1\n",
    "    \n",
    "    recon = model(data[i].cuda()).detach().cpu().numpy()[0]\n",
    "    cv2.imwrite(f'final-outputs/{savedir}/{prefix}-person{person}-pose{pose}.png', 255*recon)\n",
    "    if not originals:\n",
    "        cv2.imwrite(f'final-outputs/originals/{prefix}-person{person}-pose{pose}.png', 255*targets[i].numpy())"
   ]
  },
  {
   "cell_type": "code",
   "execution_count": null,
   "metadata": {},
   "outputs": [],
   "source": [
    "fig, ax = plt.subplots(2,10, figsize=(12,2.5))\n",
    "\n",
    "model.eval()\n",
    "reconstructions = model(train_data[0:10].cuda()).detach().cpu()\n",
    "for i in range(10):\n",
    "    ax[0,i].imshow(train_targets[i],cmap='Greys_r')\n",
    "    ax[0,i].set_xticks([]); ax[0,i].set_yticks([])\n",
    "    \n",
    "    ax[1,i].imshow(reconstructions[i],cmap='Greys_r')\n",
    "    ax[1,i].set_xticks([]); ax[1,i].set_yticks([])"
   ]
  },
  {
   "cell_type": "code",
   "execution_count": null,
   "metadata": {},
   "outputs": [],
   "source": [
    "fig, ax = plt.subplots(2,10, figsize=(12,2.5))\n",
    "\n",
    "model.eval()\n",
    "reconstructions = model(test_data[0:10].cuda()).detach().cpu()\n",
    "for i in range(10):    \n",
    "    ax[0,i].imshow(test_targets[i],cmap='Greys_r')\n",
    "    ax[0,i].set_xticks([]); ax[0,i].set_yticks([])\n",
    "    \n",
    "    ax[1,i].imshow(reconstructions[i],cmap='Greys_r')\n",
    "    ax[1,i].set_xticks([]); ax[1,i].set_yticks([])"
   ]
  },
  {
   "cell_type": "code",
   "execution_count": null,
   "metadata": {},
   "outputs": [],
   "source": []
  }
 ],
 "metadata": {
  "kernelspec": {
   "display_name": "Python 3",
   "language": "python",
   "name": "python3"
  },
  "language_info": {
   "codemirror_mode": {
    "name": "ipython",
    "version": 3
   },
   "file_extension": ".py",
   "mimetype": "text/x-python",
   "name": "python",
   "nbconvert_exporter": "python",
   "pygments_lexer": "ipython3",
   "version": "3.8.5"
  }
 },
 "nbformat": 4,
 "nbformat_minor": 4
}
